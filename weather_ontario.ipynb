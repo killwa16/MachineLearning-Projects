{
 "cells": [
  {
   "cell_type": "markdown",
   "id": "c6fa7732",
   "metadata": {},
   "source": [
    "***Objective***\n",
    "\n",
    "To build a classification model that can determine whether it will rain in Ontario given certain temperatures. This project is based on the dataset provided by my instructor and may or may not represent the actual weather phenomenon.\n",
    "\n",
    "***Dataset***\n",
    "\n",
    "- STATION - Station_id\n",
    "- NAME - City Name which is Ontario\n",
    "- Latitude - Latitude of Ontario\n",
    "- Longitude - Longitude of Ontario\n",
    "- Elevation - Elevation above sea level\n",
    "- Date - YYYY-MM-DD Format\n",
    "- PRCP - Amount of precipitation\n",
    "- SNWD - Snow Depth\n",
    "- TAVG - Average Temperature\n",
    "- TMAX - Maximum Temperature\n",
    "- TMIN - Minimum Temperature"
   ]
  },
  {
   "cell_type": "markdown",
   "id": "cbeed049",
   "metadata": {},
   "source": [
    "**Importing the libraries and overview of the dataset**"
   ]
  },
  {
   "cell_type": "code",
   "execution_count": 159,
   "id": "b3a4d293",
   "metadata": {},
   "outputs": [],
   "source": [
    "# Importing libraries for data manipulation\n",
    "import numpy as np\n",
    "import pandas as pd\n",
    "\n",
    "#Importing Data Visualization tools\n",
    "import matplotlib.pyplot as plt\n",
    "import seaborn as sns\n",
    "\n",
    "#to scale the data\n",
    "from sklearn.preprocessing import StandardScaler\n",
    "\n",
    "#to process sampling\n",
    "from imblearn.over_sampling import RandomOverSampler\n",
    "# To ignore warnings\n",
    "import warnings\n",
    "warnings.filterwarnings(\"ignore\")"
   ]
  },
  {
   "cell_type": "code",
   "execution_count": 160,
   "id": "bc420d27",
   "metadata": {},
   "outputs": [],
   "source": [
    "#importing the dataset\n",
    "df = pd.read_csv('weather.csv')"
   ]
  },
  {
   "cell_type": "code",
   "execution_count": 161,
   "id": "ce72fd78",
   "metadata": {},
   "outputs": [
    {
     "data": {
      "text/html": [
       "<div>\n",
       "<style scoped>\n",
       "    .dataframe tbody tr th:only-of-type {\n",
       "        vertical-align: middle;\n",
       "    }\n",
       "\n",
       "    .dataframe tbody tr th {\n",
       "        vertical-align: top;\n",
       "    }\n",
       "\n",
       "    .dataframe thead th {\n",
       "        text-align: right;\n",
       "    }\n",
       "</style>\n",
       "<table border=\"1\" class=\"dataframe\">\n",
       "  <thead>\n",
       "    <tr style=\"text-align: right;\">\n",
       "      <th></th>\n",
       "      <th>STATION</th>\n",
       "      <th>NAME</th>\n",
       "      <th>LATITUDE</th>\n",
       "      <th>LONGITUDE</th>\n",
       "      <th>ELEVATION</th>\n",
       "      <th>DATE</th>\n",
       "      <th>PRCP</th>\n",
       "      <th>SNWD</th>\n",
       "      <th>TAVG</th>\n",
       "      <th>TMAX</th>\n",
       "      <th>TMIN</th>\n",
       "    </tr>\n",
       "  </thead>\n",
       "  <tbody>\n",
       "    <tr>\n",
       "      <th>0</th>\n",
       "      <td>CA006158355</td>\n",
       "      <td>TORONTO CITY, ON CA</td>\n",
       "      <td>43.6667</td>\n",
       "      <td>-79.4</td>\n",
       "      <td>113.0</td>\n",
       "      <td>2002-06-04</td>\n",
       "      <td>0.19</td>\n",
       "      <td>NaN</td>\n",
       "      <td>NaN</td>\n",
       "      <td>57.0</td>\n",
       "      <td>48.0</td>\n",
       "    </tr>\n",
       "    <tr>\n",
       "      <th>1</th>\n",
       "      <td>CA006158355</td>\n",
       "      <td>TORONTO CITY, ON CA</td>\n",
       "      <td>43.6667</td>\n",
       "      <td>-79.4</td>\n",
       "      <td>113.0</td>\n",
       "      <td>2002-06-05</td>\n",
       "      <td>0.13</td>\n",
       "      <td>NaN</td>\n",
       "      <td>NaN</td>\n",
       "      <td>74.0</td>\n",
       "      <td>52.0</td>\n",
       "    </tr>\n",
       "    <tr>\n",
       "      <th>2</th>\n",
       "      <td>CA006158355</td>\n",
       "      <td>TORONTO CITY, ON CA</td>\n",
       "      <td>43.6667</td>\n",
       "      <td>-79.4</td>\n",
       "      <td>113.0</td>\n",
       "      <td>2002-06-06</td>\n",
       "      <td>0.00</td>\n",
       "      <td>NaN</td>\n",
       "      <td>NaN</td>\n",
       "      <td>64.0</td>\n",
       "      <td>55.0</td>\n",
       "    </tr>\n",
       "    <tr>\n",
       "      <th>3</th>\n",
       "      <td>CA006158355</td>\n",
       "      <td>TORONTO CITY, ON CA</td>\n",
       "      <td>43.6667</td>\n",
       "      <td>-79.4</td>\n",
       "      <td>113.0</td>\n",
       "      <td>2002-06-07</td>\n",
       "      <td>0.00</td>\n",
       "      <td>NaN</td>\n",
       "      <td>NaN</td>\n",
       "      <td>71.0</td>\n",
       "      <td>52.0</td>\n",
       "    </tr>\n",
       "    <tr>\n",
       "      <th>4</th>\n",
       "      <td>CA006158355</td>\n",
       "      <td>TORONTO CITY, ON CA</td>\n",
       "      <td>43.6667</td>\n",
       "      <td>-79.4</td>\n",
       "      <td>113.0</td>\n",
       "      <td>2002-06-08</td>\n",
       "      <td>0.00</td>\n",
       "      <td>NaN</td>\n",
       "      <td>NaN</td>\n",
       "      <td>77.0</td>\n",
       "      <td>53.0</td>\n",
       "    </tr>\n",
       "  </tbody>\n",
       "</table>\n",
       "</div>"
      ],
      "text/plain": [
       "       STATION                 NAME  LATITUDE  LONGITUDE  ELEVATION  \\\n",
       "0  CA006158355  TORONTO CITY, ON CA   43.6667      -79.4      113.0   \n",
       "1  CA006158355  TORONTO CITY, ON CA   43.6667      -79.4      113.0   \n",
       "2  CA006158355  TORONTO CITY, ON CA   43.6667      -79.4      113.0   \n",
       "3  CA006158355  TORONTO CITY, ON CA   43.6667      -79.4      113.0   \n",
       "4  CA006158355  TORONTO CITY, ON CA   43.6667      -79.4      113.0   \n",
       "\n",
       "         DATE  PRCP  SNWD  TAVG  TMAX  TMIN  \n",
       "0  2002-06-04  0.19   NaN   NaN  57.0  48.0  \n",
       "1  2002-06-05  0.13   NaN   NaN  74.0  52.0  \n",
       "2  2002-06-06  0.00   NaN   NaN  64.0  55.0  \n",
       "3  2002-06-07  0.00   NaN   NaN  71.0  52.0  \n",
       "4  2002-06-08  0.00   NaN   NaN  77.0  53.0  "
      ]
     },
     "execution_count": 161,
     "metadata": {},
     "output_type": "execute_result"
    }
   ],
   "source": [
    "#checking the dataset\n",
    "df.head()"
   ]
  },
  {
   "cell_type": "code",
   "execution_count": 162,
   "id": "315cdce3",
   "metadata": {},
   "outputs": [
    {
     "name": "stdout",
     "output_type": "stream",
     "text": [
      "<class 'pandas.core.frame.DataFrame'>\n",
      "RangeIndex: 7520 entries, 0 to 7519\n",
      "Data columns (total 11 columns):\n",
      " #   Column     Non-Null Count  Dtype  \n",
      "---  ------     --------------  -----  \n",
      " 0   STATION    7520 non-null   object \n",
      " 1   NAME       7520 non-null   object \n",
      " 2   LATITUDE   7520 non-null   float64\n",
      " 3   LONGITUDE  7520 non-null   float64\n",
      " 4   ELEVATION  7520 non-null   float64\n",
      " 5   DATE       7520 non-null   object \n",
      " 6   PRCP       7363 non-null   float64\n",
      " 7   SNWD       2496 non-null   float64\n",
      " 8   TAVG       6681 non-null   float64\n",
      " 9   TMAX       7430 non-null   float64\n",
      " 10  TMIN       7439 non-null   float64\n",
      "dtypes: float64(8), object(3)\n",
      "memory usage: 646.4+ KB\n"
     ]
    }
   ],
   "source": [
    "#checking the info of the data\n",
    "df.info()"
   ]
  },
  {
   "cell_type": "code",
   "execution_count": 163,
   "id": "847206d2",
   "metadata": {},
   "outputs": [
    {
     "data": {
      "text/plain": [
       "(7520, 11)"
      ]
     },
     "execution_count": 163,
     "metadata": {},
     "output_type": "execute_result"
    }
   ],
   "source": [
    "df.shape"
   ]
  },
  {
   "cell_type": "code",
   "execution_count": 164,
   "id": "8fd8bb73",
   "metadata": {},
   "outputs": [
    {
     "data": {
      "text/html": [
       "<div>\n",
       "<style scoped>\n",
       "    .dataframe tbody tr th:only-of-type {\n",
       "        vertical-align: middle;\n",
       "    }\n",
       "\n",
       "    .dataframe tbody tr th {\n",
       "        vertical-align: top;\n",
       "    }\n",
       "\n",
       "    .dataframe thead th {\n",
       "        text-align: right;\n",
       "    }\n",
       "</style>\n",
       "<table border=\"1\" class=\"dataframe\">\n",
       "  <thead>\n",
       "    <tr style=\"text-align: right;\">\n",
       "      <th></th>\n",
       "      <th>LATITUDE</th>\n",
       "      <th>LONGITUDE</th>\n",
       "      <th>ELEVATION</th>\n",
       "      <th>PRCP</th>\n",
       "      <th>SNWD</th>\n",
       "      <th>TAVG</th>\n",
       "      <th>TMAX</th>\n",
       "      <th>TMIN</th>\n",
       "    </tr>\n",
       "  </thead>\n",
       "  <tbody>\n",
       "    <tr>\n",
       "      <th>count</th>\n",
       "      <td>7.520000e+03</td>\n",
       "      <td>7.520000e+03</td>\n",
       "      <td>7520.0</td>\n",
       "      <td>7363.000000</td>\n",
       "      <td>2496.000000</td>\n",
       "      <td>6681.000000</td>\n",
       "      <td>7430.000000</td>\n",
       "      <td>7439.000000</td>\n",
       "    </tr>\n",
       "    <tr>\n",
       "      <th>mean</th>\n",
       "      <td>4.366670e+01</td>\n",
       "      <td>-7.940000e+01</td>\n",
       "      <td>113.0</td>\n",
       "      <td>0.086916</td>\n",
       "      <td>1.802524</td>\n",
       "      <td>49.500524</td>\n",
       "      <td>56.847376</td>\n",
       "      <td>42.932249</td>\n",
       "    </tr>\n",
       "    <tr>\n",
       "      <th>std</th>\n",
       "      <td>1.492239e-12</td>\n",
       "      <td>1.125575e-11</td>\n",
       "      <td>0.0</td>\n",
       "      <td>0.219273</td>\n",
       "      <td>2.725113</td>\n",
       "      <td>18.872366</td>\n",
       "      <td>19.711047</td>\n",
       "      <td>17.826439</td>\n",
       "    </tr>\n",
       "    <tr>\n",
       "      <th>min</th>\n",
       "      <td>4.366670e+01</td>\n",
       "      <td>-7.940000e+01</td>\n",
       "      <td>113.0</td>\n",
       "      <td>0.000000</td>\n",
       "      <td>0.000000</td>\n",
       "      <td>-18.000000</td>\n",
       "      <td>-3.000000</td>\n",
       "      <td>-13.000000</td>\n",
       "    </tr>\n",
       "    <tr>\n",
       "      <th>25%</th>\n",
       "      <td>4.366670e+01</td>\n",
       "      <td>-7.940000e+01</td>\n",
       "      <td>113.0</td>\n",
       "      <td>0.000000</td>\n",
       "      <td>0.000000</td>\n",
       "      <td>35.000000</td>\n",
       "      <td>40.000000</td>\n",
       "      <td>30.000000</td>\n",
       "    </tr>\n",
       "    <tr>\n",
       "      <th>50%</th>\n",
       "      <td>4.366670e+01</td>\n",
       "      <td>-7.940000e+01</td>\n",
       "      <td>113.0</td>\n",
       "      <td>0.000000</td>\n",
       "      <td>0.400000</td>\n",
       "      <td>50.000000</td>\n",
       "      <td>57.000000</td>\n",
       "      <td>43.000000</td>\n",
       "    </tr>\n",
       "    <tr>\n",
       "      <th>75%</th>\n",
       "      <td>4.366670e+01</td>\n",
       "      <td>-7.940000e+01</td>\n",
       "      <td>113.0</td>\n",
       "      <td>0.055000</td>\n",
       "      <td>2.800000</td>\n",
       "      <td>66.000000</td>\n",
       "      <td>74.000000</td>\n",
       "      <td>59.000000</td>\n",
       "    </tr>\n",
       "    <tr>\n",
       "      <th>max</th>\n",
       "      <td>4.366670e+01</td>\n",
       "      <td>-7.940000e+01</td>\n",
       "      <td>113.0</td>\n",
       "      <td>3.810000</td>\n",
       "      <td>14.200000</td>\n",
       "      <td>88.000000</td>\n",
       "      <td>101.000000</td>\n",
       "      <td>79.000000</td>\n",
       "    </tr>\n",
       "  </tbody>\n",
       "</table>\n",
       "</div>"
      ],
      "text/plain": [
       "           LATITUDE     LONGITUDE  ELEVATION         PRCP         SNWD  \\\n",
       "count  7.520000e+03  7.520000e+03     7520.0  7363.000000  2496.000000   \n",
       "mean   4.366670e+01 -7.940000e+01      113.0     0.086916     1.802524   \n",
       "std    1.492239e-12  1.125575e-11        0.0     0.219273     2.725113   \n",
       "min    4.366670e+01 -7.940000e+01      113.0     0.000000     0.000000   \n",
       "25%    4.366670e+01 -7.940000e+01      113.0     0.000000     0.000000   \n",
       "50%    4.366670e+01 -7.940000e+01      113.0     0.000000     0.400000   \n",
       "75%    4.366670e+01 -7.940000e+01      113.0     0.055000     2.800000   \n",
       "max    4.366670e+01 -7.940000e+01      113.0     3.810000    14.200000   \n",
       "\n",
       "              TAVG         TMAX         TMIN  \n",
       "count  6681.000000  7430.000000  7439.000000  \n",
       "mean     49.500524    56.847376    42.932249  \n",
       "std      18.872366    19.711047    17.826439  \n",
       "min     -18.000000    -3.000000   -13.000000  \n",
       "25%      35.000000    40.000000    30.000000  \n",
       "50%      50.000000    57.000000    43.000000  \n",
       "75%      66.000000    74.000000    59.000000  \n",
       "max      88.000000   101.000000    79.000000  "
      ]
     },
     "execution_count": 164,
     "metadata": {},
     "output_type": "execute_result"
    }
   ],
   "source": [
    "#Checking basic statistics\n",
    "df.describe()"
   ]
  },
  {
   "cell_type": "markdown",
   "id": "26c011b7",
   "metadata": {},
   "source": [
    "**Data Cleaning**"
   ]
  },
  {
   "cell_type": "code",
   "execution_count": 165,
   "id": "9d44e3a2",
   "metadata": {},
   "outputs": [
    {
     "data": {
      "text/plain": [
       "STATION       0.000000\n",
       "NAME          0.000000\n",
       "LATITUDE      0.000000\n",
       "LONGITUDE     0.000000\n",
       "ELEVATION     0.000000\n",
       "DATE          0.000000\n",
       "PRCP          2.087766\n",
       "SNWD         66.808511\n",
       "TAVG         11.156915\n",
       "TMAX          1.196809\n",
       "TMIN          1.077128\n",
       "dtype: float64"
      ]
     },
     "execution_count": 165,
     "metadata": {},
     "output_type": "execute_result"
    }
   ],
   "source": [
    "#Checking for null values\n",
    "df.isnull().sum()*100/df.shape[0]"
   ]
  },
  {
   "cell_type": "markdown",
   "id": "f7efc161",
   "metadata": {},
   "source": [
    "Observations: There are missing values. We might need to fill it with values depending on what the distribution of the data."
   ]
  },
  {
   "cell_type": "code",
   "execution_count": 166,
   "id": "9cd1975e",
   "metadata": {},
   "outputs": [
    {
     "data": {
      "image/png": "[encoded data removed]",
      "text/plain": [
       "<Figure size 500x500 with 5 Axes>"
      ]
     },
     "metadata": {},
     "output_type": "display_data"
    }
   ],
   "source": [
    "#Checking for Outliers. We can use a box and whisker plot to check.\n",
    "fig, axs = plt.subplots(5, figsize = (5,5))\n",
    "plt1 = sns.boxplot(df['PRCP'], ax= axs[0])\n",
    "plt2 = sns.boxplot(df['SNWD'], ax =axs[1])\n",
    "plt3 = sns.boxplot(df['TAVG'], ax= axs[2])\n",
    "plt4 = sns.boxplot(df['TMAX'], ax= axs[3])\n",
    "plt5 = sns.boxplot(df['TMIN'], ax =axs[4])\n",
    "plt.tight_layout()"
   ]
  },
  {
   "cell_type": "markdown",
   "id": "39009aec",
   "metadata": {},
   "source": [
    "Observation: There are a lot of outliers for the Precipitate and Snow Depth column. For snow depth, if there is no snow, then there is no depth so we will supply the missing values with 0. For the Precipitate, we might need to put in the median in place of the missing values. For TAVG, TAMX, and TMIN, we will put the average in place of missing values."
   ]
  },
  {
   "cell_type": "code",
   "execution_count": 167,
   "id": "4417f183",
   "metadata": {},
   "outputs": [],
   "source": [
    "#lets define the mean and median of the corresponding columns\n",
    "mean1 = df['TAVG'].mean()\n",
    "mean2 = df['TMAX'].mean()\n",
    "mean3 = df['TMIN'].mean()\n",
    "\n",
    "med = df['PRCP'].median()"
   ]
  },
  {
   "cell_type": "code",
   "execution_count": 168,
   "id": "0bd05b56",
   "metadata": {},
   "outputs": [],
   "source": [
    "#let's fill in the missing values\n",
    "df['PRCP'].fillna(med, inplace=True)"
   ]
  },
  {
   "cell_type": "code",
   "execution_count": 169,
   "id": "eb6b5490",
   "metadata": {},
   "outputs": [],
   "source": [
    "df['SNWD'].fillna(0, inplace = True)"
   ]
  },
  {
   "cell_type": "code",
   "execution_count": 170,
   "id": "13aaf45e",
   "metadata": {},
   "outputs": [],
   "source": [
    "df['TAVG'].fillna(mean1, inplace = True)"
   ]
  },
  {
   "cell_type": "code",
   "execution_count": 171,
   "id": "670d93ad",
   "metadata": {},
   "outputs": [],
   "source": [
    "df['TMAX'].fillna(mean2, inplace = True)"
   ]
  },
  {
   "cell_type": "code",
   "execution_count": 172,
   "id": "f180d943",
   "metadata": {},
   "outputs": [],
   "source": [
    "df['TMIN'].fillna(mean3, inplace = True)"
   ]
  },
  {
   "cell_type": "code",
   "execution_count": 173,
   "id": "e20c0f30",
   "metadata": {
    "scrolled": true
   },
   "outputs": [
    {
     "name": "stdout",
     "output_type": "stream",
     "text": [
      "<class 'pandas.core.frame.DataFrame'>\n",
      "RangeIndex: 7520 entries, 0 to 7519\n",
      "Data columns (total 11 columns):\n",
      " #   Column     Non-Null Count  Dtype  \n",
      "---  ------     --------------  -----  \n",
      " 0   STATION    7520 non-null   object \n",
      " 1   NAME       7520 non-null   object \n",
      " 2   LATITUDE   7520 non-null   float64\n",
      " 3   LONGITUDE  7520 non-null   float64\n",
      " 4   ELEVATION  7520 non-null   float64\n",
      " 5   DATE       7520 non-null   object \n",
      " 6   PRCP       7520 non-null   float64\n",
      " 7   SNWD       7520 non-null   float64\n",
      " 8   TAVG       7520 non-null   float64\n",
      " 9   TMAX       7520 non-null   float64\n",
      " 10  TMIN       7520 non-null   float64\n",
      "dtypes: float64(8), object(3)\n",
      "memory usage: 646.4+ KB\n"
     ]
    }
   ],
   "source": [
    "df.info()"
   ]
  },
  {
   "cell_type": "markdown",
   "id": "2611567c",
   "metadata": {},
   "source": [
    "Observation: We now have a data with no missing values. Yay!"
   ]
  },
  {
   "cell_type": "markdown",
   "id": "82dff309",
   "metadata": {},
   "source": [
    "We are going to add a new column \"Rain\" which looks up the \"PRCP\" column. If the value of \"PRCP\" is greater than 0, that means it's raining. We will then put 1 if its raining and 0 if it's not."
   ]
  },
  {
   "cell_type": "code",
   "execution_count": 174,
   "id": "5055a6fb",
   "metadata": {},
   "outputs": [],
   "source": [
    "df['Rain'] = df['PRCP'].apply(lambda x:1 if x >0 else 0)"
   ]
  },
  {
   "cell_type": "code",
   "execution_count": 175,
   "id": "f4483277",
   "metadata": {},
   "outputs": [
    {
     "data": {
      "text/html": [
       "<div>\n",
       "<style scoped>\n",
       "    .dataframe tbody tr th:only-of-type {\n",
       "        vertical-align: middle;\n",
       "    }\n",
       "\n",
       "    .dataframe tbody tr th {\n",
       "        vertical-align: top;\n",
       "    }\n",
       "\n",
       "    .dataframe thead th {\n",
       "        text-align: right;\n",
       "    }\n",
       "</style>\n",
       "<table border=\"1\" class=\"dataframe\">\n",
       "  <thead>\n",
       "    <tr style=\"text-align: right;\">\n",
       "      <th></th>\n",
       "      <th>STATION</th>\n",
       "      <th>NAME</th>\n",
       "      <th>LATITUDE</th>\n",
       "      <th>LONGITUDE</th>\n",
       "      <th>ELEVATION</th>\n",
       "      <th>DATE</th>\n",
       "      <th>PRCP</th>\n",
       "      <th>SNWD</th>\n",
       "      <th>TAVG</th>\n",
       "      <th>TMAX</th>\n",
       "      <th>TMIN</th>\n",
       "      <th>Rain</th>\n",
       "    </tr>\n",
       "  </thead>\n",
       "  <tbody>\n",
       "    <tr>\n",
       "      <th>0</th>\n",
       "      <td>CA006158355</td>\n",
       "      <td>TORONTO CITY, ON CA</td>\n",
       "      <td>43.6667</td>\n",
       "      <td>-79.4</td>\n",
       "      <td>113.0</td>\n",
       "      <td>2002-06-04</td>\n",
       "      <td>0.19</td>\n",
       "      <td>0.0</td>\n",
       "      <td>49.500524</td>\n",
       "      <td>57.0</td>\n",
       "      <td>48.0</td>\n",
       "      <td>1</td>\n",
       "    </tr>\n",
       "    <tr>\n",
       "      <th>1</th>\n",
       "      <td>CA006158355</td>\n",
       "      <td>TORONTO CITY, ON CA</td>\n",
       "      <td>43.6667</td>\n",
       "      <td>-79.4</td>\n",
       "      <td>113.0</td>\n",
       "      <td>2002-06-05</td>\n",
       "      <td>0.13</td>\n",
       "      <td>0.0</td>\n",
       "      <td>49.500524</td>\n",
       "      <td>74.0</td>\n",
       "      <td>52.0</td>\n",
       "      <td>1</td>\n",
       "    </tr>\n",
       "    <tr>\n",
       "      <th>2</th>\n",
       "      <td>CA006158355</td>\n",
       "      <td>TORONTO CITY, ON CA</td>\n",
       "      <td>43.6667</td>\n",
       "      <td>-79.4</td>\n",
       "      <td>113.0</td>\n",
       "      <td>2002-06-06</td>\n",
       "      <td>0.00</td>\n",
       "      <td>0.0</td>\n",
       "      <td>49.500524</td>\n",
       "      <td>64.0</td>\n",
       "      <td>55.0</td>\n",
       "      <td>0</td>\n",
       "    </tr>\n",
       "    <tr>\n",
       "      <th>3</th>\n",
       "      <td>CA006158355</td>\n",
       "      <td>TORONTO CITY, ON CA</td>\n",
       "      <td>43.6667</td>\n",
       "      <td>-79.4</td>\n",
       "      <td>113.0</td>\n",
       "      <td>2002-06-07</td>\n",
       "      <td>0.00</td>\n",
       "      <td>0.0</td>\n",
       "      <td>49.500524</td>\n",
       "      <td>71.0</td>\n",
       "      <td>52.0</td>\n",
       "      <td>0</td>\n",
       "    </tr>\n",
       "    <tr>\n",
       "      <th>4</th>\n",
       "      <td>CA006158355</td>\n",
       "      <td>TORONTO CITY, ON CA</td>\n",
       "      <td>43.6667</td>\n",
       "      <td>-79.4</td>\n",
       "      <td>113.0</td>\n",
       "      <td>2002-06-08</td>\n",
       "      <td>0.00</td>\n",
       "      <td>0.0</td>\n",
       "      <td>49.500524</td>\n",
       "      <td>77.0</td>\n",
       "      <td>53.0</td>\n",
       "      <td>0</td>\n",
       "    </tr>\n",
       "  </tbody>\n",
       "</table>\n",
       "</div>"
      ],
      "text/plain": [
       "       STATION                 NAME  LATITUDE  LONGITUDE  ELEVATION  \\\n",
       "0  CA006158355  TORONTO CITY, ON CA   43.6667      -79.4      113.0   \n",
       "1  CA006158355  TORONTO CITY, ON CA   43.6667      -79.4      113.0   \n",
       "2  CA006158355  TORONTO CITY, ON CA   43.6667      -79.4      113.0   \n",
       "3  CA006158355  TORONTO CITY, ON CA   43.6667      -79.4      113.0   \n",
       "4  CA006158355  TORONTO CITY, ON CA   43.6667      -79.4      113.0   \n",
       "\n",
       "         DATE  PRCP  SNWD       TAVG  TMAX  TMIN  Rain  \n",
       "0  2002-06-04  0.19   0.0  49.500524  57.0  48.0     1  \n",
       "1  2002-06-05  0.13   0.0  49.500524  74.0  52.0     1  \n",
       "2  2002-06-06  0.00   0.0  49.500524  64.0  55.0     0  \n",
       "3  2002-06-07  0.00   0.0  49.500524  71.0  52.0     0  \n",
       "4  2002-06-08  0.00   0.0  49.500524  77.0  53.0     0  "
      ]
     },
     "execution_count": 175,
     "metadata": {},
     "output_type": "execute_result"
    }
   ],
   "source": [
    "df.head()"
   ]
  },
  {
   "cell_type": "code",
   "execution_count": 177,
   "id": "4820a7b8",
   "metadata": {},
   "outputs": [],
   "source": [
    "#We assign our variables and drop those features that will not be use in the models\n",
    "\n",
    "X = df.drop(['NAME','STATION','LATITUDE','LONGITUDE','ELEVATION','PRCP', 'DATE'],axis = 1)\n",
    "y = df[['Rain']]"
   ]
  },
  {
   "cell_type": "code",
   "execution_count": 193,
   "id": "388c422b",
   "metadata": {},
   "outputs": [
    {
     "name": "stdout",
     "output_type": "stream",
     "text": [
      "(5264, 5) (2256, 5)\n"
     ]
    }
   ],
   "source": [
    "#Splitting data into training and test set:\n",
    "from sklearn.model_selection import train_test_split\n",
    "X_train, X_test, y_train , y_test= train_test_split(X, y, test_size = 0.3, random_state = 1)\n",
    "\n",
    "print(X_train.shape, X_test.shape)"
   ]
  },
  {
   "cell_type": "code",
   "execution_count": 179,
   "id": "fea63c91",
   "metadata": {
    "scrolled": true
   },
   "outputs": [
    {
     "name": "stdout",
     "output_type": "stream",
     "text": [
      "2128\n",
      "3136\n"
     ]
    }
   ],
   "source": [
    "print(len(X_train[X_train['Rain']==1]))\n",
    "print(len(X_train[X_train['Rain']==0]))"
   ]
  },
  {
   "cell_type": "markdown",
   "id": "908b0414",
   "metadata": {},
   "source": [
    "Observation: There seems to be an inbalance between the data."
   ]
  },
  {
   "cell_type": "markdown",
   "id": "a2b0b0bb",
   "metadata": {},
   "source": [
    "Let's create a function that will input a dataset and scale it to match the range of the numbers in the dataset. At the same time, it oversamples the data if there is an inbalance."
   ]
  },
  {
   "cell_type": "code",
   "execution_count": 180,
   "id": "030b4950",
   "metadata": {
    "scrolled": true
   },
   "outputs": [],
   "source": [
    "def scale_dataset(dataframe, oversample =False):\n",
    "    X = dataframe[dataframe.columns[:-1]].values\n",
    "    y = dataframe[dataframe.columns[-1]].values\n",
    "    \n",
    "    scaler = StandardScaler()\n",
    "    X = scaler.fit_transform(X)\n",
    "    if oversample:\n",
    "        ros = RandomOverSampler()\n",
    "        X,y = ros.fit_resample(X,y)\n",
    "    \n",
    "    data = np.hstack((X, np.reshape(y,(-1,1))))\n",
    "    \n",
    "    return data, X, y"
   ]
  },
  {
   "cell_type": "code",
   "execution_count": 194,
   "id": "f59d08b1",
   "metadata": {},
   "outputs": [],
   "source": [
    "#Scaling the training set and test set.\n",
    "X_train, X_train , y_train = scale_dataset(X_train, oversample = True)\n",
    "X_test, X_test , y_test = scale_dataset(X_test, oversample = False)"
   ]
  },
  {
   "cell_type": "code",
   "execution_count": 195,
   "id": "74b71cff",
   "metadata": {},
   "outputs": [
    {
     "data": {
      "text/plain": [
       "6272"
      ]
     },
     "execution_count": 195,
     "metadata": {},
     "output_type": "execute_result"
    }
   ],
   "source": [
    "len(y_train)"
   ]
  },
  {
   "cell_type": "code",
   "execution_count": 191,
   "id": "e39ffe0a",
   "metadata": {
    "scrolled": true
   },
   "outputs": [
    {
     "data": {
      "text/plain": [
       "3136"
      ]
     },
     "execution_count": 191,
     "metadata": {},
     "output_type": "execute_result"
    }
   ],
   "source": [
    "sum(y_train == 1)"
   ]
  },
  {
   "cell_type": "markdown",
   "id": "6c2ac228",
   "metadata": {},
   "source": [
    "Now, the data is balanced."
   ]
  },
  {
   "cell_type": "markdown",
   "id": "46026b85",
   "metadata": {},
   "source": [
    "# **Building the Models!**"
   ]
  },
  {
   "cell_type": "markdown",
   "id": "d72baa9a",
   "metadata": {},
   "source": [
    "**Model 1: K-Nearest neighbor (kNN)**"
   ]
  },
  {
   "cell_type": "code",
   "execution_count": 202,
   "id": "530b1cd1",
   "metadata": {},
   "outputs": [],
   "source": [
    "#importing the library\n",
    "from sklearn.neighbors import KNeighborsClassifier\n",
    "from sklearn.metrics import classification_report"
   ]
  },
  {
   "cell_type": "code",
   "execution_count": 234,
   "id": "046254fc",
   "metadata": {},
   "outputs": [
    {
     "data": {
      "text/plain": [
       "KNeighborsClassifier(n_neighbors=3)"
      ]
     },
     "execution_count": 234,
     "metadata": {},
     "output_type": "execute_result"
    }
   ],
   "source": [
    "knn_model = KNeighborsClassifier(n_neighbors = 3)\n",
    "\n",
    "#fitting the model/Training\n",
    "knn_model.fit(X_train, y_train)"
   ]
  },
  {
   "cell_type": "code",
   "execution_count": 235,
   "id": "1ca36925",
   "metadata": {},
   "outputs": [],
   "source": [
    "#testing the model \n",
    "y_pred = knn_model.predict(X_test)"
   ]
  },
  {
   "cell_type": "code",
   "execution_count": 236,
   "id": "cca9b77b",
   "metadata": {},
   "outputs": [
    {
     "name": "stdout",
     "output_type": "stream",
     "text": [
      "              precision    recall  f1-score   support\n",
      "\n",
      "           0       0.62      0.61      0.62      1323\n",
      "           1       0.46      0.47      0.46       933\n",
      "\n",
      "    accuracy                           0.55      2256\n",
      "   macro avg       0.54      0.54      0.54      2256\n",
      "weighted avg       0.55      0.55      0.55      2256\n",
      "\n"
     ]
    }
   ],
   "source": [
    "print(classification_report(y_test,y_pred))"
   ]
  },
  {
   "cell_type": "markdown",
   "id": "02a25b3d",
   "metadata": {},
   "source": [
    "Things to look at:\n",
    "- Accuracy - how many target points the model predicted correctly over the total?\n",
    "- Precision - How many retrieved items are relevant?\n",
    "- Recall - How many relevant items are retrieved?\n",
    "\n",
    "In our case, we want to focus more on the accuracy of our model since we want to predict correctly if it will rain or not. The model only has a 55% accuracy so we might need to tweak our parameters or reprocess our data. For now, let's look at other models."
   ]
  },
  {
   "cell_type": "markdown",
   "id": "58457fef",
   "metadata": {},
   "source": [
    "**Model 2: Naive Bayes(NB)  Model**"
   ]
  },
  {
   "cell_type": "code",
   "execution_count": 237,
   "id": "5eab2adc",
   "metadata": {},
   "outputs": [],
   "source": [
    "#importing the library\n",
    "from sklearn.naive_bayes import GaussianNB"
   ]
  },
  {
   "cell_type": "code",
   "execution_count": 238,
   "id": "2dfd235a",
   "metadata": {},
   "outputs": [],
   "source": [
    "nb_model = GaussianNB()"
   ]
  },
  {
   "cell_type": "code",
   "execution_count": 239,
   "id": "85ca0bf1",
   "metadata": {},
   "outputs": [
    {
     "data": {
      "text/plain": [
       "GaussianNB()"
      ]
     },
     "execution_count": 239,
     "metadata": {},
     "output_type": "execute_result"
    }
   ],
   "source": [
    "#Fitting the model/Training\n",
    "nb_model.fit(X_train,y_train)"
   ]
  },
  {
   "cell_type": "code",
   "execution_count": 241,
   "id": "81cd837c",
   "metadata": {
    "scrolled": true
   },
   "outputs": [
    {
     "name": "stdout",
     "output_type": "stream",
     "text": [
      "              precision    recall  f1-score   support\n",
      "\n",
      "           0       0.62      0.55      0.58      1323\n",
      "           1       0.45      0.52      0.48       933\n",
      "\n",
      "    accuracy                           0.54      2256\n",
      "   macro avg       0.53      0.54      0.53      2256\n",
      "weighted avg       0.55      0.54      0.54      2256\n",
      "\n"
     ]
    }
   ],
   "source": [
    "#predicting using the test set\n",
    "y_pred = nb_model.predict(X_test)\n",
    "print(classification_report(y_test,y_pred))"
   ]
  },
  {
   "cell_type": "markdown",
   "id": "c11d47b7",
   "metadata": {},
   "source": [
    "This one has a 54% accuracy. Not good enough in my opinion. XD"
   ]
  },
  {
   "cell_type": "markdown",
   "id": "a5055b7e",
   "metadata": {},
   "source": [
    "**Model 3: Logistic Regression**"
   ]
  },
  {
   "cell_type": "code",
   "execution_count": 242,
   "id": "dbcfb939",
   "metadata": {},
   "outputs": [],
   "source": [
    "#importing the library\n",
    "from sklearn.linear_model import LogisticRegression"
   ]
  },
  {
   "cell_type": "code",
   "execution_count": 243,
   "id": "8cb8b231",
   "metadata": {},
   "outputs": [],
   "source": [
    "lg_model = LogisticRegression()\n",
    "lg_model = lg_model.fit(X_train,y_train)"
   ]
  },
  {
   "cell_type": "code",
   "execution_count": 244,
   "id": "9fa82556",
   "metadata": {},
   "outputs": [
    {
     "name": "stdout",
     "output_type": "stream",
     "text": [
      "              precision    recall  f1-score   support\n",
      "\n",
      "           0       0.65      0.58      0.61      1323\n",
      "           1       0.49      0.57      0.52       933\n",
      "\n",
      "    accuracy                           0.57      2256\n",
      "   macro avg       0.57      0.57      0.57      2256\n",
      "weighted avg       0.58      0.57      0.58      2256\n",
      "\n"
     ]
    }
   ],
   "source": [
    "y_pred = lg_model.predict(X_test)\n",
    "print(classification_report(y_test,y_pred))"
   ]
  },
  {
   "cell_type": "markdown",
   "id": "e3b9314e",
   "metadata": {},
   "source": [
    "This is the best in terms of accuracy so far. Let's do one more classification model."
   ]
  },
  {
   "cell_type": "markdown",
   "id": "cd49edc1",
   "metadata": {},
   "source": [
    "**Model 4: Support Vector Machines (SVM)**"
   ]
  },
  {
   "cell_type": "code",
   "execution_count": 246,
   "id": "1ad58351",
   "metadata": {},
   "outputs": [],
   "source": [
    "from sklearn.svm import SVC #Support Vector Classifier"
   ]
  },
  {
   "cell_type": "code",
   "execution_count": 247,
   "id": "6ca49d16",
   "metadata": {},
   "outputs": [],
   "source": [
    "svm_model = SVC()\n",
    "svm_model = svm_model.fit(X_train, y_train)"
   ]
  },
  {
   "cell_type": "code",
   "execution_count": 248,
   "id": "cac976e2",
   "metadata": {},
   "outputs": [
    {
     "name": "stdout",
     "output_type": "stream",
     "text": [
      "              precision    recall  f1-score   support\n",
      "\n",
      "           0       0.65      0.54      0.59      1323\n",
      "           1       0.48      0.59      0.53       933\n",
      "\n",
      "    accuracy                           0.56      2256\n",
      "   macro avg       0.56      0.57      0.56      2256\n",
      "weighted avg       0.58      0.56      0.56      2256\n",
      "\n"
     ]
    }
   ],
   "source": [
    "y_pred = svm_model.predict(X_test)\n",
    "print(classification_report(y_test,y_pred))"
   ]
  },
  {
   "cell_type": "markdown",
   "id": "e44f38f0",
   "metadata": {},
   "source": [
    "This gave us a 56% accuracy. :("
   ]
  },
  {
   "cell_type": "markdown",
   "id": "9080457f",
   "metadata": {},
   "source": [
    "# Conclusion and Recommendations"
   ]
  },
  {
   "cell_type": "markdown",
   "id": "264c582f",
   "metadata": {},
   "source": [
    "**Conclusion**\n",
    "- Out of the machine learning models that we created, the Logistic Regression model gave us the best results. These models are not the best and could be improved."
   ]
  },
  {
   "cell_type": "markdown",
   "id": "077cb3fc",
   "metadata": {},
   "source": [
    "**Recommendation**\n",
    "- We can improve these models by tweaking the hyperparameters of each models. \n",
    "- We can also look at other models that might work better than the ones that we created.\n",
    "- We should also look at the dataset one more time and see how we can clean/process it better."
   ]
  },
  {
   "cell_type": "code",
   "execution_count": null,
   "id": "ffb0979b",
   "metadata": {},
   "outputs": [],
   "source": []
  }
 ],
 "metadata": {
  "kernelspec": {
   "display_name": "Python 3 (ipykernel)",
   "language": "python",
   "name": "python3"
  },
  "language_info": {
   "codemirror_mode": {
    "name": "ipython",
    "version": 3
   },
   "file_extension": ".py",
   "mimetype": "text/x-python",
   "name": "python",
   "nbconvert_exporter": "python",
   "pygments_lexer": "ipython3",
   "version": "3.9.13"
  }
 },
 "nbformat": 4,
 "nbformat_minor": 5
}
